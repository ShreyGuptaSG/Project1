{
 "cells": [
  {
   "cell_type": "markdown",
   "id": "a6a106c2-f185-492f-87bb-79286c2eacc4",
   "metadata": {},
   "source": [
    "### __BUSA8001 Group Assignment - Predicting Used Car Sale Prices__"
   ]
  },
  {
   "cell_type": "markdown",
   "id": "4c316658-edf7-4797-b078-202987b4922b",
   "metadata": {},
   "source": [
    "--- \n",
    "\n",
    "**Due Date:** Friday, 5 November 2021 @ 11.59pm (Week 13)\n",
    "\n",
    "**Overview:**   \n",
    "\n",
    "- In the group assignment you will form a team of up to 3 students (minimum 2) and participate in a forecasting competition on Kaggle\n",
    "- The goal is to predict sale prices of used cars based on car characteristics and regression models\n",
    "\n",
    "- You will:  \n",
    "    -  Write a problem statement based on a dataset and perform Exploratory Data Analysis  \n",
    "    - Clean up data, deal with categorical features and missing observations, and create new variables (feature engineering)  \n",
    "    - Construct and tune a forecasting model, produce forecasts and submit your predictions to Kaggle  \n",
    "    - Each member of the team will record a video presentation of their work  \n",
    "    - Marks will be awarded producing a prediction in the top 3 positions as well as for reaching the highest ranking on Kaggle amongst BUSA8001 teams."
   ]
  },
  {
   "cell_type": "markdown",
   "id": "f2270744-5e12-447b-a861-9719409e287c",
   "metadata": {},
   "source": [
    "**Instructions:** \n",
    "\n",
    "- Form a team of 3 students (minimum 2 students)  \n",
    "- Each team member needs to join [https://www.kaggle.com](https://www.kaggle.com/)  \n",
    "- Choose a team leader and form a team in the competition [https://www.kaggle.com/t/ee097d230f9d46bc9f866bff2ceed1c1](https://www.kaggle.com/t/ee097d230f9d46bc9f866bff2ceed1c1)\n",
    "    - Team leader to click on `team` and join and invite other team members to join  \n",
    "- All team members should work on all the tasks listed below however   \n",
    "    - **Choose a team member who be responsible for one of each of the 3 tasks listed below**    "
   ]
  },
  {
   "cell_type": "markdown",
   "id": "242ee56b-c5b9-4078-8754-e04f90797514",
   "metadata": {},
   "source": [
    "**Marks**: \n",
    "\n",
    "- Total Marks: 40\n",
    "- Your mark will consist of:  \n",
    "    - 50% x overall assignment mark + 45% x mark for the task that you are responsible for + 5% x mark received from your teammates for your effort in group work \n",
    "- 5 marks will be deducted from each Task for which there is no video presentation "
   ]
  },
  {
   "cell_type": "markdown",
   "id": "91f70e4c-b794-4555-b170-d80b628b2904",
   "metadata": {},
   "source": [
    "**Competition Marks:**\n",
    "- 5 marks: Ranking in the top 3 places on Kaggle\n",
    "- 2 marks: Reaching the first place"
   ]
  },
  {
   "cell_type": "markdown",
   "id": "cc3180e9-c3cc-494c-ae64-d3b9701e10e8",
   "metadata": {},
   "source": [
    "\n",
    "**Submissions:**  \n",
    "\n",
    "1. On Kaggle: submit your team's forecast in order to be ranked by Kaggle\n",
    "    - Can do this as many times as necessary while building their model  \n",
    "2. On iLearn **only team leader to submit** this Jupyter notebook re-named `BUSA8001_Group_Assignment_MQ_ID.ipynb` where MQ_ID is team leader's MQ ID number \n",
    "    - The Jupyter notebook must contain team members names/ID numbers, and team name in the competition\n",
    "    - Provide answers to the 3 Tasks below in the allocated cells including all codes/outputs/writeups \n",
    "    - One 15 minute video recording of your work \n",
    "        - Each team member to provide a 5 minute presentation of the Task that they led (your can jointly record your video using Zoom)\n",
    "        - When recording your video make sure your face is visible, and you share your Jupyter Notebook and refer to your work in the submitted Jupyter notebook on screen\n",
    "         - 5 marks will be deducted from each Task for which there is no video presentation or if you don't follow the above instructions\n",
    "        \n",
    "3. On iLearn each student needs to submit a pdf with their teammates' names, SID and a mark for their group effort (out of 100%)\n",
    "\n"
   ]
  },
  {
   "cell_type": "markdown",
   "id": "e5dbce8a-bf4f-4155-9336-6367fd239f6a",
   "metadata": {},
   "source": [
    "---"
   ]
  },
  {
   "cell_type": "markdown",
   "id": "cfe68a60-5e8b-4c4e-b562-3a82fa426395",
   "metadata": {},
   "source": [
    "**Fill out the following information**\n",
    "\n",
    "For each team member provide name, Student ID number and which task is performed below"
   ]
  },
  {
   "cell_type": "markdown",
   "id": "bac487d3-755a-4a69-a22f-d599dbdd7979",
   "metadata": {},
   "source": [
    "- Team Name on Kaggle: `TeamGreen`\n",
    "- Team Leader and Team Member 1: `Shrey`\n",
    "- Team Member 2: `Rashi`\n",
    "- Team Member 3: `Peeyush`"
   ]
  },
  {
   "cell_type": "markdown",
   "id": "b24de689-928d-4991-b337-760c12780e5d",
   "metadata": {},
   "source": [
    "---\n",
    "\n",
    "## Task 1: Problem Description and Initial Data Analysis\n",
    "\n",
    "1. Read the Competition Overview on Kaggle [https://www.kaggle.com/t/ee097d230f9d46bc9f866bff2ceed1c1](https://www.kaggle.com/t/ee097d230f9d46bc9f866bff2ceed1c1)\n",
    "2. Referring to Competition Overview and the data provided on Kaggle write about a 500 words **Problem Description** focusing on key points that will need to be addressed as first steps in Tasks 2 and 3 below, using the following headings:\n",
    "    - Forecasting Problem\n",
    "    - Evaluation Criteria\n",
    "    - Types of Variables/Features\n",
    "    - Data summary and main data characteristics\n",
    "    - Missing Values (only explain what you found at this stage)\n",
    "    \n",
    "Total Marks: 11\n"
   ]
  },
  {
   "cell_type": "markdown",
   "id": "8c4c25bc-c98b-41f3-852f-e5bc4bc6335e",
   "metadata": {},
   "source": [
    "TASK 1\n",
    "FORECASTING PROBLEM:\n",
    "The purpose of this competition is to forecast used car selling prices based on the attributes of cars sold. The major problem with this dataset is the existence of redundant and imbalanced data which should be decreased. Another issue is the presence of a few outliers which can significantly affect the prediction (leading to underestimated or overestimated prices). These outloers could be deleted as these are not essential in predicting the used car sale prices. Therefore, in order to obtain the best results, cleaning the dataset before analysing is cruicial. \n",
    "\n",
    "\n",
    "TYPES OF VARIABLES/FEATURES: \n",
    "\n",
    "In a nutshell, two types of variables are possible within a dataset i.e., Categorical variables and Numerical variables. Categorical variables classify people into one of several categories based on their category or label values. There is only one category for each observation, and the categories are mutually exclusive. Whereas Numerical variables or quantitative variables indicate a measurement. For example, in our train dataset body_type, exterior_color, among others, represent categorical variables while variables like highway_fuel_economy, dealer_zip, among others represent numerical variables. The training dataset has 39 features/variables where _ are categorical while __ are numerical variables. \n",
    "\n",
    "DATA SUMMARY AND MAIN DATA CHARACTERSTICS:\n",
    "\n",
    "The machine learning algorithm is built on the train data. The algorithm is fed input data by the data analyst, which correlates to an intended output. After developing the model, the testing the data confirms that it can make accurate predictions. The training dataset provided contains 3500 rows and 39 columns/ variables. The test dataset provided contains 1500 observations and 38 variables/columns. The target variable is the used car sale price. The dataset also highlights numerical features like back_legroom, front_legroom, height, length, among others. One of the first and most crucial tasks in every machine learning activity is feature selection. In the context of a dataset, a feature simply refers to a column. Not every column (feature) in the dataset will necessarily have an effect on the output variable. If we include these non-essential characteristics in the model, it will affect the predictions. As a result, feature selection becomes necessary.\n",
    "\n",
    "EVALUATION CRITERIA:\n",
    "The machine learning regression model that we are using is Gradient boosting regression model. Gradient boosting is a machine learning technique for regression, classification, and other problems that generates a prediction model from an ensemble of weak prediction models, most commonly decision trees. GB constructs an additive model in a stage-by-stage manner, allowing for the optimization of any differentiable loss function.\n",
    "\n",
    "MISSING VALUES:\n",
    "There are many null and blank values. For example, there are null values for front leg room and back leg room. We tackled this situation by getting mode out of categorical values and mean out of numerical values.\n"
   ]
  },
  {
   "cell_type": "code",
   "execution_count": 360,
   "id": "5dcfd49e-fcbb-4eaa-936b-144b574495d4",
   "metadata": {},
   "outputs": [],
   "source": [
    "Kraggle score - 6638.78955"
   ]
  },
  {
   "cell_type": "markdown",
   "id": "7960bb55-92da-4528-9ee1-e06e46f00cae",
   "metadata": {},
   "source": [
    "`(Task 1, Text Here - insert more cells as required)`"
   ]
  },
  {
   "cell_type": "markdown",
   "id": "ad30df24-b18b-4f61-975f-ceebe2e2c3ab",
   "metadata": {},
   "source": [
    "---\n",
    "\n",
    "## Task 2: Data Cleaning, Missing Observations and Feature Engineering\n",
    "- In this task you will follow a set of instructions/questions listed below.\n",
    "- Make sure you explain each step you do both in Markdown text and on your video.\n",
    "\n",
    "Total Marks: 11"
   ]
  },
  {
   "cell_type": "markdown",
   "id": "01f4ec3d-4936-4428-a204-04f133210a3d",
   "metadata": {},
   "source": [
    "**Task 2, Question 1**: Clean **all** numerical features so that they can be used in training algorithms. For instance, back_legroom feature is in object format containing both numerical values and text. Extract numerical values (or equivalently eliminate the text) so that the numerical values can be used as a regular feature.  \n",
    "(2 marks)"
   ]
  },
  {
   "cell_type": "markdown",
   "id": "ace19860-ca52-4e49-9142-1d7b25539144",
   "metadata": {},
   "source": [
    "IMPORTING LIBRARIES AND READING DATABASE"
   ]
  },
  {
   "cell_type": "code",
   "execution_count": 1,
   "id": "62e8bb08-9c86-449e-827d-902b6fe10ed7",
   "metadata": {},
   "outputs": [
    {
     "name": "stdout",
     "output_type": "stream",
     "text": [
      "Requirement already satisfied: lightgbm in c:\\users\\shrey\\anaconda3\\lib\\site-packages (3.3.1)\n",
      "Requirement already satisfied: wheel in c:\\users\\shrey\\anaconda3\\lib\\site-packages (from lightgbm) (0.36.2)\n",
      "Requirement already satisfied: numpy in c:\\users\\shrey\\anaconda3\\lib\\site-packages (from lightgbm) (1.20.1)\n",
      "Requirement already satisfied: scipy in c:\\users\\shrey\\anaconda3\\lib\\site-packages (from lightgbm) (1.6.2)\n",
      "Requirement already satisfied: scikit-learn!=0.22.0 in c:\\users\\shrey\\anaconda3\\lib\\site-packages (from lightgbm) (0.24.1)\n",
      "Requirement already satisfied: threadpoolctl>=2.0.0 in c:\\users\\shrey\\anaconda3\\lib\\site-packages (from scikit-learn!=0.22.0->lightgbm) (2.1.0)\n",
      "Requirement already satisfied: joblib>=0.11 in c:\\users\\shrey\\anaconda3\\lib\\site-packages (from scikit-learn!=0.22.0->lightgbm) (1.0.1)\n"
     ]
    },
    {
     "name": "stderr",
     "output_type": "stream",
     "text": [
      "ERROR: Could not find a version that satisfies the requirement warning\n",
      "ERROR: No matching distribution found for warning\n"
     ]
    },
    {
     "name": "stdout",
     "output_type": "stream",
     "text": [
      "Requirement already satisfied: missingno in c:\\users\\shrey\\anaconda3\\lib\\site-packages (0.5.0)\n",
      "Requirement already satisfied: numpy in c:\\users\\shrey\\anaconda3\\lib\\site-packages (from missingno) (1.20.1)\n",
      "Requirement already satisfied: scipy in c:\\users\\shrey\\anaconda3\\lib\\site-packages (from missingno) (1.6.2)\n",
      "Requirement already satisfied: seaborn in c:\\users\\shrey\\anaconda3\\lib\\site-packages (from missingno) (0.11.1)\n",
      "Requirement already satisfied: matplotlib in c:\\users\\shrey\\anaconda3\\lib\\site-packages (from missingno) (3.3.4)\n",
      "Requirement already satisfied: pillow>=6.2.0 in c:\\users\\shrey\\anaconda3\\lib\\site-packages (from matplotlib->missingno) (8.2.0)\n",
      "Requirement already satisfied: python-dateutil>=2.1 in c:\\users\\shrey\\anaconda3\\lib\\site-packages (from matplotlib->missingno) (2.8.1)\n",
      "Requirement already satisfied: kiwisolver>=1.0.1 in c:\\users\\shrey\\anaconda3\\lib\\site-packages (from matplotlib->missingno) (1.3.1)\n",
      "Requirement already satisfied: pyparsing!=2.0.4,!=2.1.2,!=2.1.6,>=2.0.3 in c:\\users\\shrey\\anaconda3\\lib\\site-packages (from matplotlib->missingno) (2.4.7)\n",
      "Requirement already satisfied: cycler>=0.10 in c:\\users\\shrey\\anaconda3\\lib\\site-packages (from matplotlib->missingno) (0.10.0)\n",
      "Requirement already satisfied: six in c:\\users\\shrey\\anaconda3\\lib\\site-packages (from cycler>=0.10->matplotlib->missingno) (1.15.0)\n",
      "Requirement already satisfied: pandas>=0.23 in c:\\users\\shrey\\anaconda3\\lib\\site-packages (from seaborn->missingno) (1.2.4)\n",
      "Requirement already satisfied: pytz>=2017.3 in c:\\users\\shrey\\anaconda3\\lib\\site-packages (from pandas>=0.23->seaborn->missingno) (2021.1)\n"
     ]
    }
   ],
   "source": [
    "!pip install lightgbm\n",
    "!pip install warning\n",
    "!pip install missingno"
   ]
  },
  {
   "cell_type": "code",
   "execution_count": 2,
   "id": "3ab8881e-7f76-4a1e-b737-905b24a86002",
   "metadata": {},
   "outputs": [],
   "source": [
    "import numpy as np\n",
    "import pandas as pd\n",
    "import seaborn as sns\n",
    "from sklearn.preprocessing import StandardScaler\n",
    "from sklearn.model_selection import train_test_split\n",
    "from sklearn.linear_model import LinearRegression\n",
    "import lightgbm as lgb\n",
    "from sklearn.metrics import mean_squared_error\n",
    "import re as re\n",
    "from sklearn.preprocessing import LabelEncoder\n",
    "# import warning\n",
    "# warnings.filterwarnings('ignore')\n",
    "import numpy as np \n",
    "import pandas as pd \n",
    "import seaborn as sns \n",
    "import matplotlib.pyplot as plt\n",
    "from sklearn.preprocessing import LabelEncoder\n",
    "from sklearn.model_selection import KFold\n",
    "from sklearn.model_selection import cross_val_score\n",
    "from sklearn.linear_model import Lasso, Ridge\n",
    "from sklearn.svm import SVR\n",
    "from sklearn.ensemble import RandomForestRegressor, GradientBoostingRegressor, ExtraTreesRegressor\n",
    "from sklearn.tree import DecisionTreeRegressor\n",
    "from sklearn.neighbors import KNeighborsRegressor\n",
    "from sklearn.preprocessing import StandardScaler\n",
    "from sklearn.pipeline import Pipeline\n",
    "import matplotlib.gridspec as gridspec\n",
    "import missingno as msno\n",
    "import scipy.stats as stats \n",
    "from scipy.special import boxcox1p\n",
    "from sklearn.model_selection import train_test_split\n",
    "import warnings\n",
    "warnings.filterwarnings(\"ignore\")"
   ]
  },
  {
   "cell_type": "code",
   "execution_count": 3,
   "id": "32485e18",
   "metadata": {},
   "outputs": [],
   "source": [
    "train_data = pd.read_csv('C:/Users/shrey/Desktop/Shrey Docs/Studies/S2 2021/Applied Predictive Analysis/Group Ass/train.csv') \n",
    "test_data = pd.read_csv('C:/Users/shrey/Desktop/Shrey Docs/Studies/S2 2021/Applied Predictive Analysis/Group Ass/test.csv')\n",
    "\n",
    "# Keep the Sales price column aside\n",
    "y = train_data[\"price\"] \n",
    "\n",
    "merged_data = pd.concat([train_data,test_data],axis=0) # Merge the training and testing data\n",
    "data = merged_data.drop([\"price\"],axis=1) # Drop Spricefrom the merged data"
   ]
  },
  {
   "cell_type": "code",
   "execution_count": 4,
   "id": "3f1dd18d-3adc-40f3-9e21-3ba982a2f975",
   "metadata": {},
   "outputs": [
    {
     "name": "stdout",
     "output_type": "stream",
     "text": [
      "<class 'pandas.core.frame.DataFrame'>\n",
      "Int64Index: 5000 entries, 0 to 1499\n",
      "Data columns (total 38 columns):\n",
      " #   Column                Non-Null Count  Dtype  \n",
      "---  ------                --------------  -----  \n",
      " 0   vin                   5000 non-null   object \n",
      " 1   back_legroom          4844 non-null   object \n",
      " 2   body_type             4992 non-null   object \n",
      " 3   city                  5000 non-null   object \n",
      " 4   city_fuel_economy     4175 non-null   float64\n",
      " 5   daysonmarket          5000 non-null   int64  \n",
      " 6   dealer_zip            5000 non-null   int64  \n",
      " 7   engine_displacement   4816 non-null   float64\n",
      " 8   engine_type           4914 non-null   object \n",
      " 9   exterior_color        5000 non-null   object \n",
      " 10  franchise_dealer      5000 non-null   bool   \n",
      " 11  front_legroom         4844 non-null   object \n",
      " 12  fuel_tank_volume      4844 non-null   object \n",
      " 13  fuel_type             4934 non-null   object \n",
      " 14  height                4844 non-null   object \n",
      " 15  highway_fuel_economy  4175 non-null   float64\n",
      " 16  horsepower            4816 non-null   float64\n",
      " 17  interior_color        5000 non-null   object \n",
      " 18  is_new                5000 non-null   bool   \n",
      " 19  latitude              5000 non-null   float64\n",
      " 20  length                4844 non-null   object \n",
      " 21  listed_date           5000 non-null   object \n",
      " 22  listing_color         5000 non-null   object \n",
      " 23  longitude             5000 non-null   float64\n",
      " 24  make_name             5000 non-null   object \n",
      " 25  maximum_seating       4844 non-null   object \n",
      " 26  mileage               4721 non-null   float64\n",
      " 27  model_name            5000 non-null   object \n",
      " 28  power                 4575 non-null   object \n",
      " 29  savings_amount        5000 non-null   int64  \n",
      " 30  seller_rating         4997 non-null   float64\n",
      " 31  torque                4528 non-null   object \n",
      " 32  transmission          4927 non-null   object \n",
      " 33  transmission_display  4927 non-null   object \n",
      " 34  wheel_system          4856 non-null   object \n",
      " 35  wheelbase             4844 non-null   object \n",
      " 36  width                 4844 non-null   object \n",
      " 37  year                  5000 non-null   int64  \n",
      "dtypes: bool(2), float64(8), int64(4), object(24)\n",
      "memory usage: 1.4+ MB\n"
     ]
    }
   ],
   "source": [
    "data.info()"
   ]
  },
  {
   "cell_type": "markdown",
   "id": "09940752-d6d2-4dbf-b162-0b8a48fca7fe",
   "metadata": {},
   "source": [
    "Extracting values from OBJECT and convert to FLOAT "
   ]
  },
  {
   "cell_type": "code",
   "execution_count": 5,
   "id": "e8b0f5bf-d54b-478c-8b5d-aa304a390a7f",
   "metadata": {},
   "outputs": [
    {
     "name": "stdout",
     "output_type": "stream",
     "text": [
      "<class 'pandas.core.frame.DataFrame'>\n",
      "Int64Index: 5000 entries, 0 to 1499\n",
      "Data columns (total 38 columns):\n",
      " #   Column                Non-Null Count  Dtype  \n",
      "---  ------                --------------  -----  \n",
      " 0   vin                   5000 non-null   object \n",
      " 1   back_legroom          4750 non-null   float32\n",
      " 2   body_type             4992 non-null   object \n",
      " 3   city                  5000 non-null   object \n",
      " 4   city_fuel_economy     4175 non-null   float64\n",
      " 5   daysonmarket          5000 non-null   int64  \n",
      " 6   dealer_zip            5000 non-null   int64  \n",
      " 7   engine_displacement   4816 non-null   float64\n",
      " 8   engine_type           4914 non-null   object \n",
      " 9   exterior_color        5000 non-null   object \n",
      " 10  franchise_dealer      5000 non-null   bool   \n",
      " 11  front_legroom         4806 non-null   float32\n",
      " 12  fuel_tank_volume      4840 non-null   float32\n",
      " 13  fuel_type             4934 non-null   object \n",
      " 14  height                4841 non-null   float32\n",
      " 15  highway_fuel_economy  4175 non-null   float64\n",
      " 16  horsepower            4816 non-null   float64\n",
      " 17  interior_color        5000 non-null   object \n",
      " 18  is_new                5000 non-null   bool   \n",
      " 19  latitude              5000 non-null   float64\n",
      " 20  length                4841 non-null   float32\n",
      " 21  listed_date           5000 non-null   object \n",
      " 22  listing_color         5000 non-null   object \n",
      " 23  longitude             5000 non-null   float64\n",
      " 24  make_name             5000 non-null   object \n",
      " 25  maximum_seating       4841 non-null   float32\n",
      " 26  mileage               4721 non-null   float64\n",
      " 27  model_name            5000 non-null   object \n",
      " 28  power                 4575 non-null   object \n",
      " 29  savings_amount        5000 non-null   int64  \n",
      " 30  seller_rating         4997 non-null   float64\n",
      " 31  torque                4528 non-null   object \n",
      " 32  transmission          4927 non-null   object \n",
      " 33  transmission_display  4927 non-null   object \n",
      " 34  wheel_system          4856 non-null   object \n",
      " 35  wheelbase             4841 non-null   float32\n",
      " 36  width                 4841 non-null   float32\n",
      " 37  year                  5000 non-null   int64  \n",
      "dtypes: bool(2), float32(8), float64(8), int64(4), object(16)\n",
      "memory usage: 1.3+ MB\n"
     ]
    }
   ],
   "source": [
    "data.back_legroom = data.back_legroom.str.extract('(^\\d*)')\n",
    "data.front_legroom = data.front_legroom.str.extract('(^\\d*)')\n",
    "data.fuel_tank_volume = data.fuel_tank_volume.str.extract('(^\\d*)')\n",
    "data.height = data.height.str.extract('(^\\d*)')\n",
    "data.length = data.length.str.extract('(^\\d*)')\n",
    "data.maximum_seating = data.maximum_seating.str.extract('(^\\d*)')\n",
    "data.wheelbase = data.wheelbase.str.extract('(^\\d*)')\n",
    "data.width = data.width.str.extract('(^\\d*)')\n",
    "\n",
    "data.back_legroom = pd.to_numeric(data.back_legroom, errors='raise', downcast='float')\n",
    "data.front_legroom = pd.to_numeric(data.front_legroom, errors='raise', downcast='float')\n",
    "data.fuel_tank_volume = pd.to_numeric(data.fuel_tank_volume, errors='raise', downcast='float')\n",
    "data.height = pd.to_numeric(data.height, errors='raise', downcast='float')\n",
    "data.length = pd.to_numeric(data.length, errors='raise', downcast='float')\n",
    "data.maximum_seating = pd.to_numeric(data.maximum_seating, errors='raise', downcast='float')\n",
    "data.wheelbase = pd.to_numeric(data.wheelbase, errors='raise', downcast='float')\n",
    "data.width = pd.to_numeric(data.width, errors='raise', downcast='float')\n",
    "\n",
    "data.info()\n",
    "\n"
   ]
  },
  {
   "cell_type": "markdown",
   "id": "6313fef0-4043-4c03-8f3f-4691b5f61f11",
   "metadata": {},
   "source": [
    "`(Task 2, Question 1 Text Here - insert more cells as required)`"
   ]
  },
  {
   "cell_type": "markdown",
   "id": "773f1bb1",
   "metadata": {},
   "source": [
    "**Task 2, Question 2** Create at least 4 new features from existing numerical variables which contain multiple items of information, e.g. extract maximum torque and torque rpm from the torque variable.  \n",
    "(2 marks)"
   ]
  },
  {
   "cell_type": "markdown",
   "id": "266d82f2-cf36-4b32-9bd3-23cb2830a320",
   "metadata": {},
   "source": [
    "Extracting features from VIN"
   ]
  },
  {
   "cell_type": "code",
   "execution_count": 6,
   "id": "c8fc769e-0fab-4327-bb9a-210ad10b6b2d",
   "metadata": {
    "tags": []
   },
   "outputs": [],
   "source": [
    "data['vehicle_built'] = data.vin.str[0]\n",
    "data['manufacturer'] = data.vin.str[1:3]\n",
    "data['vehicle_desc'] = data.vin.str[3:8]\n",
    "data['security_code'] = data.vin.str[8]\n",
    "data['model_year'] = data.vin.str[9]\n",
    "data['plants_assembled'] = data.vin.str[10]\n",
    "data['flexible_fuel'] = data.manufacturer + data.vin.str[7]\n",
    "data['vehicle_serial'] = data.vin.str[11:]"
   ]
  },
  {
   "cell_type": "markdown",
   "id": "af7e169d-649f-464d-812c-ff509264c32d",
   "metadata": {},
   "source": [
    "Adding Features (splitting torque and power) "
   ]
  },
  {
   "cell_type": "code",
   "execution_count": 7,
   "id": "c0d210de",
   "metadata": {},
   "outputs": [],
   "source": [
    "def find_num(x):\n",
    "  num = re.findall(\"[0-9.]+\",str(x).replace(\",\",''))\n",
    "  if len(num) > 0:\n",
    "    return num[0]\n",
    "  else:\n",
    "    return np.NaN\n",
    "\n",
    "data[['torque_lb_ft','torque_RPM']] = data['torque'].str.split('@',expand=True)\n",
    "data[['power_hp','power_RPM']] = data['power'].str.split('@',expand=True)\n",
    "\n",
    "data.drop('torque', axis=1, inplace=True)\n",
    "data.drop('power', axis=1, inplace=True)\n",
    "data.drop('power_hp', axis=1, inplace=True)\n",
    "\n",
    "# converting object to float\n",
    "data.power_RPM = data.power_RPM.apply(lambda x: find_num(x) if x != np.NaN else x).astype(float) \n",
    "data.torque_RPM = data.torque_RPM.apply(lambda x: find_num(x) if x != np.NaN else x).astype(float)"
   ]
  },
  {
   "cell_type": "code",
   "execution_count": null,
   "id": "11fe33eb-c7b7-42c7-91cb-27a8c8c9e0be",
   "metadata": {},
   "outputs": [],
   "source": []
  },
  {
   "cell_type": "markdown",
   "id": "23fde9b6-bed0-4018-9edb-3553f3d1fa13",
   "metadata": {},
   "source": [
    "`(Task 2, Question 2 Text Here - insert more cells as required)`"
   ]
  },
  {
   "cell_type": "markdown",
   "id": "03c14ab6-aff9-4fcd-ab7b-34f0b77f8caa",
   "metadata": {},
   "source": [
    "**Task 2, Question 3**: Impute missing values for all features in both training and test datasets.   \n",
    "(2 marks)"
   ]
  },
  {
   "cell_type": "code",
   "execution_count": 8,
   "id": "7520f455-3437-4038-ba8d-cf186f304e31",
   "metadata": {},
   "outputs": [
    {
     "data": {
      "text/html": [
       "<div>\n",
       "<style scoped>\n",
       "    .dataframe tbody tr th:only-of-type {\n",
       "        vertical-align: middle;\n",
       "    }\n",
       "\n",
       "    .dataframe tbody tr th {\n",
       "        vertical-align: top;\n",
       "    }\n",
       "\n",
       "    .dataframe thead th {\n",
       "        text-align: right;\n",
       "    }\n",
       "</style>\n",
       "<table border=\"1\" class=\"dataframe\">\n",
       "  <thead>\n",
       "    <tr style=\"text-align: right;\">\n",
       "      <th></th>\n",
       "      <th>Total</th>\n",
       "      <th>Percentage</th>\n",
       "    </tr>\n",
       "  </thead>\n",
       "  <tbody>\n",
       "    <tr>\n",
       "      <th>city_fuel_economy</th>\n",
       "      <td>825</td>\n",
       "      <td>16.50</td>\n",
       "    </tr>\n",
       "    <tr>\n",
       "      <th>highway_fuel_economy</th>\n",
       "      <td>825</td>\n",
       "      <td>16.50</td>\n",
       "    </tr>\n",
       "    <tr>\n",
       "      <th>torque_RPM</th>\n",
       "      <td>472</td>\n",
       "      <td>9.44</td>\n",
       "    </tr>\n",
       "    <tr>\n",
       "      <th>torque_lb_ft</th>\n",
       "      <td>472</td>\n",
       "      <td>9.44</td>\n",
       "    </tr>\n",
       "    <tr>\n",
       "      <th>power_RPM</th>\n",
       "      <td>425</td>\n",
       "      <td>8.50</td>\n",
       "    </tr>\n",
       "    <tr>\n",
       "      <th>mileage</th>\n",
       "      <td>279</td>\n",
       "      <td>5.58</td>\n",
       "    </tr>\n",
       "    <tr>\n",
       "      <th>back_legroom</th>\n",
       "      <td>250</td>\n",
       "      <td>5.00</td>\n",
       "    </tr>\n",
       "    <tr>\n",
       "      <th>front_legroom</th>\n",
       "      <td>194</td>\n",
       "      <td>3.88</td>\n",
       "    </tr>\n",
       "    <tr>\n",
       "      <th>horsepower</th>\n",
       "      <td>184</td>\n",
       "      <td>3.68</td>\n",
       "    </tr>\n",
       "    <tr>\n",
       "      <th>engine_displacement</th>\n",
       "      <td>184</td>\n",
       "      <td>3.68</td>\n",
       "    </tr>\n",
       "    <tr>\n",
       "      <th>fuel_tank_volume</th>\n",
       "      <td>160</td>\n",
       "      <td>3.20</td>\n",
       "    </tr>\n",
       "    <tr>\n",
       "      <th>length</th>\n",
       "      <td>159</td>\n",
       "      <td>3.18</td>\n",
       "    </tr>\n",
       "    <tr>\n",
       "      <th>maximum_seating</th>\n",
       "      <td>159</td>\n",
       "      <td>3.18</td>\n",
       "    </tr>\n",
       "    <tr>\n",
       "      <th>height</th>\n",
       "      <td>159</td>\n",
       "      <td>3.18</td>\n",
       "    </tr>\n",
       "    <tr>\n",
       "      <th>wheelbase</th>\n",
       "      <td>159</td>\n",
       "      <td>3.18</td>\n",
       "    </tr>\n",
       "    <tr>\n",
       "      <th>width</th>\n",
       "      <td>159</td>\n",
       "      <td>3.18</td>\n",
       "    </tr>\n",
       "    <tr>\n",
       "      <th>wheel_system</th>\n",
       "      <td>144</td>\n",
       "      <td>2.88</td>\n",
       "    </tr>\n",
       "    <tr>\n",
       "      <th>engine_type</th>\n",
       "      <td>86</td>\n",
       "      <td>1.72</td>\n",
       "    </tr>\n",
       "    <tr>\n",
       "      <th>transmission</th>\n",
       "      <td>73</td>\n",
       "      <td>1.46</td>\n",
       "    </tr>\n",
       "    <tr>\n",
       "      <th>transmission_display</th>\n",
       "      <td>73</td>\n",
       "      <td>1.46</td>\n",
       "    </tr>\n",
       "    <tr>\n",
       "      <th>fuel_type</th>\n",
       "      <td>66</td>\n",
       "      <td>1.32</td>\n",
       "    </tr>\n",
       "    <tr>\n",
       "      <th>body_type</th>\n",
       "      <td>8</td>\n",
       "      <td>0.16</td>\n",
       "    </tr>\n",
       "    <tr>\n",
       "      <th>seller_rating</th>\n",
       "      <td>3</td>\n",
       "      <td>0.06</td>\n",
       "    </tr>\n",
       "  </tbody>\n",
       "</table>\n",
       "</div>"
      ],
      "text/plain": [
       "                      Total  Percentage\n",
       "city_fuel_economy       825       16.50\n",
       "highway_fuel_economy    825       16.50\n",
       "torque_RPM              472        9.44\n",
       "torque_lb_ft            472        9.44\n",
       "power_RPM               425        8.50\n",
       "mileage                 279        5.58\n",
       "back_legroom            250        5.00\n",
       "front_legroom           194        3.88\n",
       "horsepower              184        3.68\n",
       "engine_displacement     184        3.68\n",
       "fuel_tank_volume        160        3.20\n",
       "length                  159        3.18\n",
       "maximum_seating         159        3.18\n",
       "height                  159        3.18\n",
       "wheelbase               159        3.18\n",
       "width                   159        3.18\n",
       "wheel_system            144        2.88\n",
       "engine_type              86        1.72\n",
       "transmission             73        1.46\n",
       "transmission_display     73        1.46\n",
       "fuel_type                66        1.32\n",
       "body_type                 8        0.16\n",
       "seller_rating             3        0.06"
      ]
     },
     "execution_count": 8,
     "metadata": {},
     "output_type": "execute_result"
    }
   ],
   "source": [
    "# analysing misiing values and check for percentage of missing values\n",
    "def missing_value(df):\n",
    "    number = df.isnull().sum().sort_values(ascending=False)\n",
    "    number = number[number > 0]\n",
    "    percentage = df.isnull().sum() *100 / df.shape[0]\n",
    "    percentage = percentage[percentage > 0].sort_values(ascending=False)\n",
    "    return  pd.concat([number,percentage],keys=[\"Total\",\"Percentage\"],axis=1)\n",
    "missing_value(data)"
   ]
  },
  {
   "cell_type": "code",
   "execution_count": 9,
   "id": "9deaf24b-d01f-4ad9-bc0f-ca597f63818c",
   "metadata": {},
   "outputs": [],
   "source": [
    "# for numerical\n",
    "missing_feat = missing_value(data).index\n",
    "missing_cat = [feat for feat in missing_feat if data[feat].dtype == np.object]\n",
    "for feat in missing_cat:\n",
    "    data[feat] = data[feat].transform(lambda x: x.fillna(x.mode()[0]))\n",
    "    \n",
    "missing_num = [feat for feat in missing_feat if feat not in missing_cat]\n",
    "for feat in missing_num:\n",
    "    data[feat] = data[feat].transform(lambda x: x.fillna(x.median()))  "
   ]
  },
  {
   "cell_type": "code",
   "execution_count": null,
   "id": "5b8ed69b-1a96-43e9-910f-74d2a03e022a",
   "metadata": {},
   "outputs": [],
   "source": []
  },
  {
   "cell_type": "code",
   "execution_count": 10,
   "id": "36412d68-f68f-4764-aa6f-88ba33116ef3",
   "metadata": {},
   "outputs": [
    {
     "data": {
      "text/plain": [
       "vin                     0\n",
       "back_legroom            0\n",
       "body_type               0\n",
       "city                    0\n",
       "city_fuel_economy       0\n",
       "daysonmarket            0\n",
       "dealer_zip              0\n",
       "engine_displacement     0\n",
       "engine_type             0\n",
       "exterior_color          0\n",
       "franchise_dealer        0\n",
       "front_legroom           0\n",
       "fuel_tank_volume        0\n",
       "fuel_type               0\n",
       "height                  0\n",
       "highway_fuel_economy    0\n",
       "horsepower              0\n",
       "interior_color          0\n",
       "is_new                  0\n",
       "latitude                0\n",
       "length                  0\n",
       "listed_date             0\n",
       "listing_color           0\n",
       "longitude               0\n",
       "make_name               0\n",
       "maximum_seating         0\n",
       "mileage                 0\n",
       "model_name              0\n",
       "savings_amount          0\n",
       "seller_rating           0\n",
       "transmission            0\n",
       "transmission_display    0\n",
       "wheel_system            0\n",
       "wheelbase               0\n",
       "width                   0\n",
       "year                    0\n",
       "vehicle_built           0\n",
       "manufacturer            0\n",
       "vehicle_desc            0\n",
       "security_code           0\n",
       "model_year              0\n",
       "plants_assembled        0\n",
       "flexible_fuel           0\n",
       "vehicle_serial          0\n",
       "torque_lb_ft            0\n",
       "torque_RPM              0\n",
       "power_RPM               0\n",
       "dtype: int64"
      ]
     },
     "execution_count": 10,
     "metadata": {},
     "output_type": "execute_result"
    }
   ],
   "source": [
    "data.isnull().sum()\n",
    "# imr = SimpleImputer(missing_values = np.nan, strategy='mean') # use mean imputation\n",
    "# imr = imr.fit(trial.values)  # .values is used to export pandas dataframe into numpy array\n",
    "# imputed_data = imr.transform(trial.values)\n",
    "# print(imputed_data) # notice that the data is transferred back into a "
   ]
  },
  {
   "cell_type": "markdown",
   "id": "dbb16b1d-f4f1-438e-a5af-ae9cc3c04467",
   "metadata": {},
   "source": [
    "`(Task 2, Question 3 Text Here - insert more cells as required)`"
   ]
  },
  {
   "cell_type": "markdown",
   "id": "b0d01c4d-1412-4e51-8f80-7040f536b1c7",
   "metadata": {},
   "source": [
    "**Task 2, Question 4**: Encode all categorical variables appropriately as discussed in class. Where multiple values (combinations of more than one category) are given for an observation encode the observation as 'other'. \n",
    "\n",
    "\n",
    "Where a catergorical feature contains more than 5 unique values, map the features into 5 most frequent values + 'other' and then encode appropriately. For instance, map colours into 5 basic colours + 'other': [red, yellow, green, blue, purple, other] and then encode.  \n",
    "(2 marks)"
   ]
  },
  {
   "cell_type": "code",
   "execution_count": 11,
   "id": "7766d108-563a-40f2-bb91-6db82d0aa57c",
   "metadata": {
    "tags": []
   },
   "outputs": [
    {
     "name": "stdout",
     "output_type": "stream",
     "text": [
      "CategoricaL:\n",
      "['vin', 'back_legroom', 'body_type', 'city', 'engine_type', 'exterior_color', 'front_legroom', 'fuel_tank_volume', 'fuel_type', 'height', 'interior_color', 'length', 'listed_date', 'listing_color', 'make_name', 'maximum_seating', 'model_name', 'power', 'torque', 'transmission', 'transmission_display', 'wheel_system', 'wheelbase', 'width']\n",
      "\n",
      "NumericaL:\n",
      "['city_fuel_economy', 'daysonmarket', 'dealer_zip', 'engine_displacement', 'franchise_dealer', 'highway_fuel_economy', 'horsepower', 'is_new', 'latitude', 'longitude', 'mileage', 'savings_amount', 'seller_rating', 'year', 'price']\n"
     ]
    }
   ],
   "source": [
    "#divide dataset into two parts(categorical, contineous)\n",
    "categorical, numerical = [],[]\n",
    "for z in merged_data.columns:\n",
    "    t = merged_data.dtypes[z]\n",
    "    if t=='object':\n",
    "        categorical.append(z)\n",
    "    else:\n",
    "        numerical.append(z)\n",
    "print(\"CategoricaL:\\n{}\".format(categorical))\n",
    "print(\"\\nNumericaL:\\n{}\".format(numerical))"
   ]
  },
  {
   "cell_type": "code",
   "execution_count": 12,
   "id": "906dea8d-6c50-4b70-9108-e27a6362d602",
   "metadata": {},
   "outputs": [
    {
     "name": "stdout",
     "output_type": "stream",
     "text": [
      "Numerical Features:15\n",
      "Categorical Features:24\n"
     ]
    }
   ],
   "source": [
    "print('Numerical Features:{}'.format(len(numerical)))\n",
    "print('Categorical Features:{}'.format(len(categorical)))"
   ]
  },
  {
   "cell_type": "markdown",
   "id": "d3ad3f20-7549-4b9e-8894-818c976d1457",
   "metadata": {},
   "source": [
    "`(Task 2, Question 4 Text Here - insert more cells as required)`"
   ]
  },
  {
   "cell_type": "markdown",
   "id": "2d695347",
   "metadata": {},
   "source": [
    "**Task 2, Question 5**: Perform any other actions you think need to be done on the data before constructing predictive models, and clearly explain what you have done.   \n",
    "(1 marks)"
   ]
  },
  {
   "cell_type": "code",
   "execution_count": 13,
   "id": "21a238a3-5432-4058-8b6e-1172c4e396ad",
   "metadata": {},
   "outputs": [],
   "source": [
    "## Task 2, Question 5 Code Here\n"
   ]
  },
  {
   "cell_type": "markdown",
   "id": "823a081c-cdc4-4fc8-9bd7-52bfd4c3e6dd",
   "metadata": {},
   "source": [
    "`(Task 2, Question 5 Text Here - insert more cells as required)`"
   ]
  },
  {
   "cell_type": "markdown",
   "id": "fa16475c",
   "metadata": {},
   "source": [
    "**Task 2, Question 6**: Perform exploratory data analysis to measure the relationship between the features and the target and write up your findings. \n",
    "(2 marks)"
   ]
  },
  {
   "cell_type": "code",
   "execution_count": 14,
   "id": "1509b479",
   "metadata": {},
   "outputs": [
    {
     "data": {
      "text/html": [
       "<div>\n",
       "<style scoped>\n",
       "    .dataframe tbody tr th:only-of-type {\n",
       "        vertical-align: middle;\n",
       "    }\n",
       "\n",
       "    .dataframe tbody tr th {\n",
       "        vertical-align: top;\n",
       "    }\n",
       "\n",
       "    .dataframe thead th {\n",
       "        text-align: right;\n",
       "    }\n",
       "</style>\n",
       "<table border=\"1\" class=\"dataframe\">\n",
       "  <thead>\n",
       "    <tr style=\"text-align: right;\">\n",
       "      <th></th>\n",
       "      <th>vin</th>\n",
       "      <th>back_legroom</th>\n",
       "      <th>body_type</th>\n",
       "      <th>city</th>\n",
       "      <th>city_fuel_economy</th>\n",
       "      <th>daysonmarket</th>\n",
       "      <th>dealer_zip</th>\n",
       "      <th>engine_displacement</th>\n",
       "      <th>engine_type</th>\n",
       "      <th>exterior_color</th>\n",
       "      <th>...</th>\n",
       "      <th>savings_amount</th>\n",
       "      <th>seller_rating</th>\n",
       "      <th>torque</th>\n",
       "      <th>transmission</th>\n",
       "      <th>transmission_display</th>\n",
       "      <th>wheel_system</th>\n",
       "      <th>wheelbase</th>\n",
       "      <th>width</th>\n",
       "      <th>year</th>\n",
       "      <th>price</th>\n",
       "    </tr>\n",
       "  </thead>\n",
       "  <tbody>\n",
       "    <tr>\n",
       "      <th>0</th>\n",
       "      <td>SJKCH5CRXHA032566</td>\n",
       "      <td>33.5 in</td>\n",
       "      <td>SUV / Crossover</td>\n",
       "      <td>Great Neck</td>\n",
       "      <td>NaN</td>\n",
       "      <td>20</td>\n",
       "      <td>11021</td>\n",
       "      <td>2000.0</td>\n",
       "      <td>I4</td>\n",
       "      <td>Black</td>\n",
       "      <td>...</td>\n",
       "      <td>1522</td>\n",
       "      <td>3.346154</td>\n",
       "      <td>258 lb-ft @ 1,200 RPM</td>\n",
       "      <td>A</td>\n",
       "      <td>7-Speed Automatic</td>\n",
       "      <td>AWD</td>\n",
       "      <td>106.3 in</td>\n",
       "      <td>82 in</td>\n",
       "      <td>2017</td>\n",
       "      <td>21495.0</td>\n",
       "    </tr>\n",
       "  </tbody>\n",
       "</table>\n",
       "<p>1 rows × 39 columns</p>\n",
       "</div>"
      ],
      "text/plain": [
       "                 vin back_legroom        body_type        city  \\\n",
       "0  SJKCH5CRXHA032566      33.5 in  SUV / Crossover  Great Neck   \n",
       "\n",
       "   city_fuel_economy  daysonmarket  dealer_zip  engine_displacement  \\\n",
       "0                NaN            20       11021               2000.0   \n",
       "\n",
       "  engine_type exterior_color  ...  savings_amount seller_rating  \\\n",
       "0          I4          Black  ...            1522      3.346154   \n",
       "\n",
       "                  torque transmission transmission_display  wheel_system  \\\n",
       "0  258 lb-ft @ 1,200 RPM            A    7-Speed Automatic           AWD   \n",
       "\n",
       "   wheelbase  width  year    price  \n",
       "0   106.3 in  82 in  2017  21495.0  \n",
       "\n",
       "[1 rows x 39 columns]"
      ]
     },
     "execution_count": 14,
     "metadata": {},
     "output_type": "execute_result"
    }
   ],
   "source": [
    "merged_data.head(1)"
   ]
  },
  {
   "cell_type": "code",
   "execution_count": 15,
   "id": "39a7496c-5137-4522-a281-6f44b3532eec",
   "metadata": {},
   "outputs": [
    {
     "name": "stdout",
     "output_type": "stream",
     "text": [
      "price                   1.000000\n",
      "horsepower              0.595805\n",
      "year                    0.551246\n",
      "is_new                  0.414469\n",
      "franchise_dealer        0.280803\n",
      "engine_displacement     0.245735\n",
      "longitude               0.118370\n",
      "daysonmarket            0.095993\n",
      "seller_rating          -0.016038\n",
      "dealer_zip             -0.036932\n",
      "savings_amount         -0.069650\n",
      "city_fuel_economy      -0.150429\n",
      "highway_fuel_economy   -0.205468\n",
      "latitude               -0.296162\n",
      "mileage                -0.576680\n",
      "Name: price, dtype: float64\n"
     ]
    }
   ],
   "source": [
    "corr =merged_data.corr()\n",
    "corr.sort_values(['price'], ascending= False, inplace=True)\n",
    "print(corr.price)"
   ]
  },
  {
   "cell_type": "code",
   "execution_count": 16,
   "id": "382b6f59-b1f6-4af2-94d1-8add0429cc5e",
   "metadata": {},
   "outputs": [
    {
     "data": {
      "image/png": "[encoded data removed]",
      "text/plain": [
       "<Figure size 1008x576 with 2 Axes>"
      ]
     },
     "metadata": {
      "needs_background": "light"
     },
     "output_type": "display_data"
    }
   ],
   "source": [
    "# Most correlated features\n",
    "corrmat = train_data.corr()\n",
    "top_corr_features = corrmat.index[abs(corrmat[\"price\"])>0.5]\n",
    "plt.figure(figsize=(14,8))\n",
    "g = sns.heatmap(train_data[top_corr_features].corr(),annot=True,cmap=\"cubehelix\")"
   ]
  },
  {
   "cell_type": "markdown",
   "id": "81a965eb-e661-4772-af72-98f19e1bae41",
   "metadata": {},
   "source": [
    "`(Task 2, Question 6 Text Here - insert more cells as required)`"
   ]
  },
  {
   "cell_type": "markdown",
   "id": "3c9f6968-d9c2-422f-9935-eba856b3c028",
   "metadata": {},
   "source": [
    "--- \n",
    "## Task 3: Fit and tune a forecasting model/Submit predictions/Report score and ranking\n",
    "\n",
    "Make sure you **clearly explain each step** you do both in text and on the recoded video.\n",
    "\n",
    "1. Build a machine learning (ML) regression model taking into account the outcomes of Tasks 1 & 2\n",
    "2. Fit the model and tune hyperparameters via cross-validation: make sure you comment and explain each step clearly\n",
    "3. Create predictions using the test dataset and submit your predictions on Kaggle's competition page\n",
    "4. Provide Kaggle ranking and **score** (screenshot your best submission) and comment\n",
    "5. Make sure your Python code works, so that a marker that can replicate your all of your results and Kaggle score/ranking\n",
    "\n",
    "- Hint: to perform well you will need to iterate Task 3, building and tuning various models in order to find the best one.\n",
    "\n",
    "Total Marks: 11"
   ]
  },
  {
   "cell_type": "code",
   "execution_count": 17,
   "id": "74933e43-01fd-4771-b670-a20889d3640c",
   "metadata": {},
   "outputs": [
    {
     "ename": "NameError",
     "evalue": "name 'bias' is not defined",
     "output_type": "error",
     "traceback": [
      "\u001b[1;31m---------------------------------------------------------------------------\u001b[0m",
      "\u001b[1;31mNameError\u001b[0m                                 Traceback (most recent call last)",
      "\u001b[1;32m<ipython-input-17-521719dfb130>\u001b[0m in \u001b[0;36m<module>\u001b[1;34m\u001b[0m\n\u001b[0;32m      1\u001b[0m \u001b[1;31m# Remove bias\u001b[0m\u001b[1;33m\u001b[0m\u001b[1;33m\u001b[0m\u001b[1;33m\u001b[0m\u001b[0m\n\u001b[1;32m----> 2\u001b[1;33m \u001b[0mdata\u001b[0m \u001b[1;33m=\u001b[0m \u001b[0mdata\u001b[0m\u001b[1;33m.\u001b[0m\u001b[0mdrop\u001b[0m\u001b[1;33m(\u001b[0m\u001b[0mbias\u001b[0m\u001b[1;33m,\u001b[0m\u001b[0maxis\u001b[0m\u001b[1;33m=\u001b[0m\u001b[1;36m1\u001b[0m\u001b[1;33m)\u001b[0m\u001b[1;33m\u001b[0m\u001b[1;33m\u001b[0m\u001b[0m\n\u001b[0m",
      "\u001b[1;31mNameError\u001b[0m: name 'bias' is not defined"
     ]
    }
   ],
   "source": [
    "# Remove bias\n",
    "data = data.drop(bias,axis=1)"
   ]
  },
  {
   "cell_type": "code",
   "execution_count": 18,
   "id": "03f629e1-368d-43b1-977f-6af102985daf",
   "metadata": {},
   "outputs": [
    {
     "data": {
      "text/plain": [
       "(5000, 15396)"
      ]
     },
     "execution_count": 18,
     "metadata": {},
     "output_type": "execute_result"
    }
   ],
   "source": [
    "# Converting categorical to numerical form\n",
    "\n",
    "data = pd.get_dummies(data).reset_index(drop=True)\n",
    "data.shape"
   ]
  },
  {
   "cell_type": "code",
   "execution_count": 19,
   "id": "e99dd1ea-cf83-4f99-a85b-ddaa646cb9a4",
   "metadata": {},
   "outputs": [
    {
     "ename": "NameError",
     "evalue": "name 'n' is not defined",
     "output_type": "error",
     "traceback": [
      "\u001b[1;31m---------------------------------------------------------------------------\u001b[0m",
      "\u001b[1;31mNameError\u001b[0m                                 Traceback (most recent call last)",
      "\u001b[1;32m<ipython-input-19-9a43d49b42d1>\u001b[0m in \u001b[0;36m<module>\u001b[1;34m\u001b[0m\n\u001b[0;32m      1\u001b[0m \u001b[1;31m# Split into train and test\u001b[0m\u001b[1;33m\u001b[0m\u001b[1;33m\u001b[0m\u001b[1;33m\u001b[0m\u001b[0m\n\u001b[0;32m      2\u001b[0m \u001b[1;31m# n = len(y) len of y , total prices\u001b[0m\u001b[1;33m\u001b[0m\u001b[1;33m\u001b[0m\u001b[1;33m\u001b[0m\u001b[0m\n\u001b[1;32m----> 3\u001b[1;33m \u001b[0mtrain_data\u001b[0m \u001b[1;33m=\u001b[0m \u001b[0mdata\u001b[0m\u001b[1;33m[\u001b[0m\u001b[1;33m:\u001b[0m\u001b[0mn\u001b[0m\u001b[1;33m]\u001b[0m\u001b[1;33m\u001b[0m\u001b[1;33m\u001b[0m\u001b[0m\n\u001b[0m\u001b[0;32m      4\u001b[0m \u001b[0mtest_data\u001b[0m \u001b[1;33m=\u001b[0m \u001b[0mdata\u001b[0m\u001b[1;33m[\u001b[0m\u001b[0mn\u001b[0m\u001b[1;33m:\u001b[0m\u001b[1;33m]\u001b[0m\u001b[1;33m\u001b[0m\u001b[1;33m\u001b[0m\u001b[0m\n",
      "\u001b[1;31mNameError\u001b[0m: name 'n' is not defined"
     ]
    }
   ],
   "source": [
    "# Split into train and test\n",
    "# n = len(y) len of y , total prices\n",
    "train_data = data[:n]\n",
    "test_data = data[n:]\n"
   ]
  },
  {
   "cell_type": "code",
   "execution_count": 21,
   "id": "1cd322c8-3706-47d1-ba55-b1adda354260",
   "metadata": {},
   "outputs": [
    {
     "name": "stdout",
     "output_type": "stream",
     "text": [
      "Shapes of data:  (2450, 15402) (1050, 15402) (2450,) (1050,)\n"
     ]
    }
   ],
   "source": [
    "# Split it into 70% training and 30% test data \n",
    "\n",
    "X_train, X_test, y_train, y_test =  train_test_split(train_data,y,test_size=0.30,random_state=42)\n",
    "print(\"Shapes of data: \", X_train.shape, X_test.shape, y_train.shape, y_test.shape)"
   ]
  },
  {
   "cell_type": "code",
   "execution_count": 28,
   "id": "7842c37b-9870-4f7c-9db0-b586d72d6354",
   "metadata": {},
   "outputs": [],
   "source": [
    "# Create an empty list\n",
    "pipeline_models = []\n",
    "\n",
    "# Assign all models into the list\n",
    "seed = 42\n",
    "models = [Ridge(tol=10,random_state=seed),\n",
    "          Lasso(tol=1,random_state=seed),\n",
    "          RandomForestRegressor(random_state=seed),\n",
    "          ExtraTreesRegressor(random_state=seed),\n",
    "          GradientBoostingRegressor(),\n",
    "          DecisionTreeRegressor(),\n",
    "          KNeighborsRegressor()]\n",
    "\n",
    "model_names = [\"Ridge\",\"Lasso\",\"RFR\",\"ETR\",\"GBR\",\"DTR\",\"KNN_Reg\"]\n",
    "\n",
    "# Assign each model to a pipeline\n",
    "for name, model in zip(model_names,models):\n",
    "    pipeline = (\"Scaled_\"+ name,\n",
    "                Pipeline([(\"Scaler\",StandardScaler()),\n",
    "                          (name,model)\n",
    "                         ]))\n",
    "    pipeline_models.append(pipeline)"
   ]
  },
  {
   "cell_type": "code",
   "execution_count": 29,
   "id": "fb73ffa4-34af-4176-a4d4-5f8a9070c79e",
   "metadata": {},
   "outputs": [],
   "source": [
    "# Create a dataframe to store all the models' cross validation score\n",
    "check = pd.DataFrame(columns=[\"model\",\"cv\",\"std\"])\n",
    "\n",
    "\n",
    "# Encoded dataset\n",
    "for name,model in pipeline_models:\n",
    "    kf = KFold(n_splits=10,shuffle=True,random_state=42)\n",
    "    cv = cross_val_score(model, X_train, y_train, cv=kf, n_jobs=-1, scoring=\"r2\")\n",
    "    \n",
    "    row = check.shape[0]\n",
    "    check.loc[row,\"model\"] = name\n",
    "    check.loc[row,\"cv\"] = round(cv.mean(),3)\n",
    "    check.loc[row,\"std\"] = \"+/- {}\".format(round(cv.std(),4))\n",
    "    \n",
    "    check = check.sort_values(\"cv\",ascending=False)"
   ]
  },
  {
   "cell_type": "code",
   "execution_count": null,
   "id": "ad675230-6e78-4186-92a7-d5e271063570",
   "metadata": {},
   "outputs": [],
   "source": []
  },
  {
   "cell_type": "code",
   "execution_count": 30,
   "id": "d1488c5b-b4cd-4d1d-9652-d4b3f1f75839",
   "metadata": {},
   "outputs": [
    {
     "data": {
      "text/plain": [
       "[Text(0, 0, 'Scaled_ETR'),\n",
       " Text(1, 0, 'Scaled_RFR'),\n",
       " Text(2, 0, 'Scaled_GBoost_Reg'),\n",
       " Text(3, 0, 'Scaled_DT_Reg'),\n",
       " Text(4, 0, 'Scaled_Ridge'),\n",
       " Text(5, 0, 'Scaled_Lasso'),\n",
       " Text(6, 0, 'Scaled_KNN_Reg')]"
      ]
     },
     "execution_count": 30,
     "metadata": {},
     "output_type": "execute_result"
    },
    {
     "data": {
      "image/png": "[encoded data removed]",
      "text/plain": [
       "<Figure size 1152x648 with 1 Axes>"
      ]
     },
     "metadata": {
      "needs_background": "light"
     },
     "output_type": "display_data"
    }
   ],
   "source": [
    "fig, ax = plt.subplots(1,1,sharey=False,figsize=(16,9))\n",
    "\n",
    "# Encoded dataset\n",
    "bar = sns.barplot(check[\"model\"], check[\"cv\"],ax=ax,palette = sns.cubehelix_palette(check.shape[0]))\n",
    "for rec in bar.patches:\n",
    "    height = rec.get_height()\n",
    "    ax.text(rec.get_x() + rec.get_width()/2, height*1.02,height,ha=\"center\")\n",
    "ax.set_title(\"Cross Validate Score\")\n",
    "ax.set_xticklabels(check[\"model\"].to_list(),rotation =50)"
   ]
  },
  {
   "cell_type": "code",
   "execution_count": 31,
   "id": "3047bd38-2563-49a3-bc12-a46982a7a372",
   "metadata": {},
   "outputs": [],
   "source": [
    "final_model = ExtraTreesRegressor(random_state=seed)\n",
    "final_model = final_model.fit(X_train,y_train)"
   ]
  },
  {
   "cell_type": "code",
   "execution_count": 32,
   "id": "91e6a359-1e73-4ce9-a18b-806f14c88ce0",
   "metadata": {},
   "outputs": [],
   "source": [
    "submission_results = pd.read_csv(\"sample_submission.csv\")\n",
    "submission_results.iloc[:,1] = (final_model.predict(test_data))\n",
    "submission_results.to_csv('submission_results4.csv', index=False)"
   ]
  },
  {
   "cell_type": "markdown",
   "id": "9a1010e5-03e6-475b-a9f8-51b19cb556d2",
   "metadata": {},
   "source": [
    "`(Task 3 - insert more cells as required)`"
   ]
  },
  {
   "cell_type": "markdown",
   "id": "c36f4adb-a48f-4cd4-b4ca-e6f62e6d4961",
   "metadata": {},
   "source": []
  },
  {
   "cell_type": "code",
   "execution_count": null,
   "id": "c481440d-d4b1-4ea8-bb16-9ebb5b0f0167",
   "metadata": {},
   "outputs": [],
   "source": []
  }
 ],
 "metadata": {
  "kernelspec": {
   "display_name": "Python 3",
   "language": "python",
   "name": "python3"
  },
  "language_info": {
   "codemirror_mode": {
    "name": "ipython",
    "version": 3
   },
   "file_extension": ".py",
   "mimetype": "text/x-python",
   "name": "python",
   "nbconvert_exporter": "python",
   "pygments_lexer": "ipython3",
   "version": "3.8.8"
  }
 },
 "nbformat": 4,
 "nbformat_minor": 5
}
